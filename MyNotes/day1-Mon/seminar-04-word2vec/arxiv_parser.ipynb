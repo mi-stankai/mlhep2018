{
 "cells": [
  {
   "cell_type": "code",
   "execution_count": null,
   "metadata": {},
   "outputs": [],
   "source": [
    "import os\n",
    "categories = ['hep-th']\n",
    "\n",
    "for cat in categories:\n",
    "    if not os.path.exists('data/' + cat):\n",
    "        os.makedirs('data/' + cat)"
   ]
  },
  {
   "cell_type": "code",
   "execution_count": null,
   "metadata": {},
   "outputs": [],
   "source": [
    "import arxivpy\n",
    "from tqdm import tqdm_notebook as tqdm\n",
    "for start_index in tqdm(range(0, 10**10, 200)):\n",
    "    articles = arxivpy.query(search_query=['hep-ex', 'hep-lat', 'hep-ph', 'hep-th'],\n",
    "                             start_index=start_index, max_index=start_index + 200, results_per_iteration=100,\n",
    "                             wait_time=5.0, sort_by='lastUpdatedDate') \n",
    "    for article in articles:\n",
    "        path = 'abstracts/' + article['term'] + '/'\n",
    "        try:\n",
    "            filename = article['id'].split('/')[1]\n",
    "        except:\n",
    "            filename = article['id']\n",
    "        if not os.path.exists(path):\n",
    "            os.makedirs(path)\n",
    "        with open(path + filename  + '.txt','w+') as outfile:\n",
    "            outfile.write(article['abstract'])"
   ]
  }
 ],
 "metadata": {
  "kernelspec": {
   "display_name": "Python 3",
   "language": "python",
   "name": "python3"
  },
  "language_info": {
   "codemirror_mode": {
    "name": "ipython",
    "version": 3
   },
   "file_extension": ".py",
   "mimetype": "text/x-python",
   "name": "python",
   "nbconvert_exporter": "python",
   "pygments_lexer": "ipython3",
   "version": "3.6.0"
  }
 },
 "nbformat": 4,
 "nbformat_minor": 2
}
